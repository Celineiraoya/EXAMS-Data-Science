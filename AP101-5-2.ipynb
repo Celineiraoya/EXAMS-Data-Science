{
 "cells": [
  {
   "cell_type": "markdown",
   "metadata": {},
   "source": [
    "How can you read in a CSV file and display the first 5 rows in Pandas"
   ]
  },
  {
   "cell_type": "code",
   "execution_count": 2,
   "metadata": {},
   "outputs": [],
   "source": [
    "import numpy as np\n",
    "import pandas as pd"
   ]
  },
  {
   "cell_type": "code",
   "execution_count": 9,
   "metadata": {},
   "outputs": [
    {
     "data": {
      "text/html": [
       "<div>\n",
       "<style scoped>\n",
       "    .dataframe tbody tr th:only-of-type {\n",
       "        vertical-align: middle;\n",
       "    }\n",
       "\n",
       "    .dataframe tbody tr th {\n",
       "        vertical-align: top;\n",
       "    }\n",
       "\n",
       "    .dataframe thead th {\n",
       "        text-align: right;\n",
       "    }\n",
       "</style>\n",
       "<table border=\"1\" class=\"dataframe\">\n",
       "  <thead>\n",
       "    <tr style=\"text-align: right;\">\n",
       "      <th></th>\n",
       "      <th>user_id</th>\n",
       "      <th>user_sex</th>\n",
       "      <th>user_age</th>\n",
       "      <th>user_country</th>\n",
       "      <th>rating</th>\n",
       "      <th>comment</th>\n",
       "      <th>favourite_character</th>\n",
       "      <th>date</th>\n",
       "    </tr>\n",
       "  </thead>\n",
       "  <tbody>\n",
       "    <tr>\n",
       "      <th>0</th>\n",
       "      <td>0</td>\n",
       "      <td>female</td>\n",
       "      <td>50</td>\n",
       "      <td>Germany</td>\n",
       "      <td>2.5</td>\n",
       "      <td>\"The transitions between scenes were awkward, ...</td>\n",
       "      <td>Severus Snape</td>\n",
       "      <td>2004-12-27</td>\n",
       "    </tr>\n",
       "    <tr>\n",
       "      <th>1</th>\n",
       "      <td>1</td>\n",
       "      <td>female</td>\n",
       "      <td>23</td>\n",
       "      <td>Spain</td>\n",
       "      <td>4.0</td>\n",
       "      <td>\"Severus Snape's role adds an intriguing layer.\"</td>\n",
       "      <td>Severus Snape</td>\n",
       "      <td>2003-11-22</td>\n",
       "    </tr>\n",
       "    <tr>\n",
       "      <th>2</th>\n",
       "      <td>2</td>\n",
       "      <td>male</td>\n",
       "      <td>32</td>\n",
       "      <td>France</td>\n",
       "      <td>3.0</td>\n",
       "      <td>\"The pacing was a bit slow, but the characters...</td>\n",
       "      <td>Ron Weasley</td>\n",
       "      <td>2005-09-16</td>\n",
       "    </tr>\n",
       "    <tr>\n",
       "      <th>3</th>\n",
       "      <td>3</td>\n",
       "      <td>female</td>\n",
       "      <td>24</td>\n",
       "      <td>Turkey</td>\n",
       "      <td>4.5</td>\n",
       "      <td>\"Hagrid's love for magical creatures is heartw...</td>\n",
       "      <td>Rubeus Hagrid</td>\n",
       "      <td>2002-09-17</td>\n",
       "    </tr>\n",
       "    <tr>\n",
       "      <th>4</th>\n",
       "      <td>4</td>\n",
       "      <td>female</td>\n",
       "      <td>40</td>\n",
       "      <td>Spain</td>\n",
       "      <td>5.0</td>\n",
       "      <td>\"Neville Longbottom's courage is awe-inspiring.\"</td>\n",
       "      <td>Neville Longbottom</td>\n",
       "      <td>2004-10-17</td>\n",
       "    </tr>\n",
       "  </tbody>\n",
       "</table>\n",
       "</div>"
      ],
      "text/plain": [
       "   user_id user_sex  user_age user_country  rating  \\\n",
       "0        0   female        50      Germany     2.5   \n",
       "1        1   female        23        Spain     4.0   \n",
       "2        2     male        32       France     3.0   \n",
       "3        3   female        24       Turkey     4.5   \n",
       "4        4   female        40        Spain     5.0   \n",
       "\n",
       "                                             comment favourite_character  \\\n",
       "0  \"The transitions between scenes were awkward, ...       Severus Snape   \n",
       "1   \"Severus Snape's role adds an intriguing layer.\"       Severus Snape   \n",
       "2  \"The pacing was a bit slow, but the characters...         Ron Weasley   \n",
       "3  \"Hagrid's love for magical creatures is heartw...       Rubeus Hagrid   \n",
       "4   \"Neville Longbottom's courage is awe-inspiring.\"  Neville Longbottom   \n",
       "\n",
       "         date  \n",
       "0  2004-12-27  \n",
       "1  2003-11-22  \n",
       "2  2005-09-16  \n",
       "3  2002-09-17  \n",
       "4  2004-10-17  "
      ]
     },
     "execution_count": 9,
     "metadata": {},
     "output_type": "execute_result"
    }
   ],
   "source": [
    "#displaying the first 5 rows\n",
    "df = pd.read_csv('harry_potter_reviews.csv')\n",
    "df.head(5)"
   ]
  },
  {
   "cell_type": "code",
   "execution_count": null,
   "metadata": {},
   "outputs": [],
   "source": []
  }
 ],
 "metadata": {
  "kernelspec": {
   "display_name": "Python 3",
   "language": "python",
   "name": "python3"
  },
  "language_info": {
   "codemirror_mode": {
    "name": "ipython",
    "version": 3
   },
   "file_extension": ".py",
   "mimetype": "text/x-python",
   "name": "python",
   "nbconvert_exporter": "python",
   "pygments_lexer": "ipython3",
   "version": "3.12.0"
  }
 },
 "nbformat": 4,
 "nbformat_minor": 2
}
