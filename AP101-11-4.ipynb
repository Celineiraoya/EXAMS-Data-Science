{
 "cells": [
  {
   "cell_type": "markdown",
   "metadata": {},
   "source": [
    "Combine data from multiple DataFrames based on a common key, using pandas"
   ]
  },
  {
   "cell_type": "code",
   "execution_count": 1,
   "metadata": {},
   "outputs": [],
   "source": [
    "import numpy as np \n",
    "import pandas as pd"
   ]
  },
  {
   "cell_type": "code",
   "execution_count": 2,
   "metadata": {},
   "outputs": [
    {
     "name": "stdout",
     "output_type": "stream",
     "text": [
      "     key  value1     key  value2\n",
      "0    BEN       3   Apple       4\n",
      "1  GRACE       5  Orange       5\n",
      "2  PETER       4    Pear       6\n",
      "3  FAITH       6   Mango       7\n"
     ]
    }
   ],
   "source": [
    "data1 = {'key': ['BEN', 'GRACE', 'PETER', 'FAITH'],\n",
    "         'value1': [3,5,4,6]}\n",
    "df1 = pd.DataFrame(data1)\n",
    "\n",
    "data2 = {'key': ['Apple', 'Orange', 'Pear', 'Mango'],\n",
    "         'value2': [4,5,6,7]}\n",
    "df2 = pd.DataFrame(data2)\n",
    "df_merged =  pd.concat([df1, df2], axis = 1)\n",
    "print(df_merged)"
   ]
  },
  {
   "cell_type": "code",
   "execution_count": null,
   "metadata": {},
   "outputs": [],
   "source": []
  }
 ],
 "metadata": {
  "kernelspec": {
   "display_name": "Python 3",
   "language": "python",
   "name": "python3"
  },
  "language_info": {
   "codemirror_mode": {
    "name": "ipython",
    "version": 3
   },
   "file_extension": ".py",
   "mimetype": "text/x-python",
   "name": "python",
   "nbconvert_exporter": "python",
   "pygments_lexer": "ipython3",
   "version": "3.12.0"
  }
 },
 "nbformat": 4,
 "nbformat_minor": 2
}
